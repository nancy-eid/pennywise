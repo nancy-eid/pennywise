{
 "cells": [
  {
   "cell_type": "markdown",
   "id": "69d0206e",
   "metadata": {},
   "source": [
    "# 💰 Penny Wise: Smart Family Budgeting with AI\n",
    "An interactive notebook that predicts family spending, simulates budgets, tracks goals, and visualizes trends."
   ]
  },
  {
   "cell_type": "code",
   "execution_count": null,
   "id": "b3c12a7d",
   "metadata": {},
   "outputs": [],
   "source": [
    "import pandas as pd\n",
    "import numpy as np\n",
    "import matplotlib.pyplot as plt\n",
    "import seaborn as sns\n",
    "from sklearn.ensemble import RandomForestRegressor\n",
    "from sklearn.model_selection import train_test_split\n",
    "from sklearn.metrics import mean_absolute_error\n",
    "from sklearn.preprocessing import OneHotEncoder\n",
    "from google.colab import files\n",
    "import warnings\n",
    "warnings.filterwarnings(\"ignore\")\n"
   ]
  },
  {
   "cell_type": "code",
   "execution_count": null,
   "id": "afce1254",
   "metadata": {},
   "outputs": [],
   "source": [
    "# Upload CSV\n",
    "uploaded = files.upload()\n",
    "df = pd.read_csv(\"futurefunds_dataset.csv\")\n",
    "\n",
    "# Parse date\n",
    "df['Date'] = pd.to_datetime(df['Date'])\n",
    "df['Month'] = df['Date'].dt.month\n"
   ]
  },
  {
   "cell_type": "code",
   "execution_count": null,
   "id": "6c0d2247",
   "metadata": {},
   "outputs": [],
   "source": [
    "encoder = OneHotEncoder()\n",
    "location_encoded = encoder.fit_transform(df[['Location']]).toarray()\n",
    "df[encoder.categories_[0]] = location_encoded\n",
    "\n",
    "X = df.drop(['FamilyID', 'Date', 'NextMonthTotalSpent', 'Location'], axis=1)\n",
    "y = df['NextMonthTotalSpent']\n",
    "\n",
    "X_train, X_test, y_train, y_test = train_test_split(X, y, test_size=0.2, random_state=42)\n"
   ]
  },
  {
   "cell_type": "code",
   "execution_count": null,
   "id": "88e62160",
   "metadata": {},
   "outputs": [],
   "source": [
    "model = RandomForestRegressor(n_estimators=100, random_state=42)\n",
    "model.fit(X_train, y_train)\n",
    "y_pred = model.predict(X_test)\n",
    "\n",
    "mae = mean_absolute_error(y_test, y_pred)\n",
    "print(f\"MAE: €{mae:.2f}\")\n"
   ]
  },
  {
   "cell_type": "code",
   "execution_count": null,
   "id": "a0b7218f",
   "metadata": {},
   "outputs": [],
   "source": [
    "# Predict on new sample\n",
    "example = X_test.iloc[0].copy()\n",
    "print(\"Original predicted spending: €{:.2f}\".format(model.predict([example])[0]))\n",
    "\n",
    "# Simulate cutting Food by 10%\n",
    "original_food = example['Food']\n",
    "example['Food'] = original_food * 0.9\n",
    "adjusted = model.predict([example])[0]\n",
    "print(f\"With 10% food cut: €{adjusted:.2f}\")\n"
   ]
  },
  {
   "cell_type": "code",
   "execution_count": null,
   "id": "9cd9ec7d",
   "metadata": {},
   "outputs": [],
   "source": [
    "# Average per category by month\n",
    "monthly_avg = df.groupby('Month')[['Rent', 'Food', 'Health', 'Transport', 'Education', 'Other']].mean()\n",
    "monthly_avg.plot(figsize=(12,6), title=\"Average Category Spending by Month\")\n",
    "plt.ylabel(\"€ Amount\")\n",
    "plt.show()\n"
   ]
  },
  {
   "cell_type": "code",
   "execution_count": null,
   "id": "9ebe3dd4",
   "metadata": {},
   "outputs": [],
   "source": [
    "# Spending-to-income\n",
    "df['SpendingRatio'] = df['TotalSpent'] / df['Income']\n",
    "alerts = df[df['SpendingRatio'] > 0.75]\n",
    "print(f\"Overspending alerts: {len(alerts)} cases flagged (>{75}% of income).\")\n"
   ]
  },
  {
   "cell_type": "code",
   "execution_count": null,
   "id": "3735d692",
   "metadata": {},
   "outputs": [],
   "source": [
    "# Example spike: education in April\n",
    "edu_april = df[df['Month'] == 4]['Education'].mean()\n",
    "edu_avg = df['Education'].mean()\n",
    "if edu_april > edu_avg:\n",
    "  print(f\"📌 Education spending spikes in April (avg €{edu_april:.2f}) vs normal (€{edu_avg:.2f})\")\n"
   ]
  },
  {
   "cell_type": "code",
   "execution_count": null,
   "id": "aa38c507",
   "metadata": {},
   "outputs": [],
   "source": [
    "# Goal to save €500 in 3 months\n",
    "target_saving = 500\n",
    "monthly_target = target_saving / 3\n",
    "print(f\"To save €{target_saving} in 3 months, reduce monthly spending by €{monthly_target:.2f}\")\n",
    "\n",
    "# Suggest reducing top categories\n",
    "avg = df[['Food', 'Transport', 'Other']].mean()\n",
    "cut_suggestions = (monthly_target / avg.sum()) * avg\n",
    "print(\"Recommended monthly cuts per category:\")\n",
    "print(cut_suggestions.round(2))\n"
   ]
  },
  {
   "cell_type": "markdown",
   "id": "75643ec1",
   "metadata": {},
   "source": [
    "### ✅ Features Included\n",
    "- ✅ Smart forecast + what-if simulation\n",
    "- ✅ Personalized budgeting based on size/income\n",
    "- ✅ Overspending alerts\n",
    "- ✅ Spending trends by month\n",
    "- ✅ Predictive education spike\n",
    "- ✅ Goal-based savings planner\n"
   ]
  }
 ],
 "metadata": {},
 "nbformat": 4,
 "nbformat_minor": 5
}
